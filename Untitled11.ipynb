{
  "nbformat": 4,
  "nbformat_minor": 0,
  "metadata": {
    "colab": {
      "provenance": []
    },
    "kernelspec": {
      "name": "python3",
      "display_name": "Python 3"
    },
    "language_info": {
      "name": "python"
    }
  },
  "cells": [
    {
      "cell_type": "markdown",
      "source": [
        "**1. Getting Familiar with Pandas**\n",
        "\n",
        "---\n",
        "\n"
      ],
      "metadata": {
        "id": "5PehhTBf8Z0D"
      }
    },
    {
      "cell_type": "code",
      "execution_count": 25,
      "metadata": {
        "colab": {
          "base_uri": "https://localhost:8080/",
          "height": 670
        },
        "id": "UYj8merF3_vy",
        "outputId": "95413ac5-0d77-4109-ee38-3324a9ca05dd"
      },
      "outputs": [
        {
          "output_type": "stream",
          "name": "stdout",
          "text": [
            "0    1\n",
            "1    2\n",
            "2    3\n",
            "3    4\n",
            "4    5\n",
            "dtype: int64\n",
            "a    1\n",
            "b    2\n",
            "c    3\n",
            "dtype: int64\n",
            "0    5\n",
            "1    5\n",
            "2    5\n",
            "3    5\n",
            "dtype: int64\n"
          ]
        },
        {
          "output_type": "execute_result",
          "data": {
            "text/plain": [
              "0    1\n",
              "1    8\n",
              "2    6\n",
              "3    7\n",
              "4    1\n",
              "5    6\n",
              "6    6\n",
              "7    2\n",
              "8    8\n",
              "9    2\n",
              "dtype: int64"
            ],
            "text/html": [
              "<div>\n",
              "<style scoped>\n",
              "    .dataframe tbody tr th:only-of-type {\n",
              "        vertical-align: middle;\n",
              "    }\n",
              "\n",
              "    .dataframe tbody tr th {\n",
              "        vertical-align: top;\n",
              "    }\n",
              "\n",
              "    .dataframe thead th {\n",
              "        text-align: right;\n",
              "    }\n",
              "</style>\n",
              "<table border=\"1\" class=\"dataframe\">\n",
              "  <thead>\n",
              "    <tr style=\"text-align: right;\">\n",
              "      <th></th>\n",
              "      <th>0</th>\n",
              "    </tr>\n",
              "  </thead>\n",
              "  <tbody>\n",
              "    <tr>\n",
              "      <th>0</th>\n",
              "      <td>1</td>\n",
              "    </tr>\n",
              "    <tr>\n",
              "      <th>1</th>\n",
              "      <td>8</td>\n",
              "    </tr>\n",
              "    <tr>\n",
              "      <th>2</th>\n",
              "      <td>6</td>\n",
              "    </tr>\n",
              "    <tr>\n",
              "      <th>3</th>\n",
              "      <td>7</td>\n",
              "    </tr>\n",
              "    <tr>\n",
              "      <th>4</th>\n",
              "      <td>1</td>\n",
              "    </tr>\n",
              "    <tr>\n",
              "      <th>5</th>\n",
              "      <td>6</td>\n",
              "    </tr>\n",
              "    <tr>\n",
              "      <th>6</th>\n",
              "      <td>6</td>\n",
              "    </tr>\n",
              "    <tr>\n",
              "      <th>7</th>\n",
              "      <td>2</td>\n",
              "    </tr>\n",
              "    <tr>\n",
              "      <th>8</th>\n",
              "      <td>8</td>\n",
              "    </tr>\n",
              "    <tr>\n",
              "      <th>9</th>\n",
              "      <td>2</td>\n",
              "    </tr>\n",
              "  </tbody>\n",
              "</table>\n",
              "</div><br><label><b>dtype:</b> int64</label>"
            ]
          },
          "metadata": {},
          "execution_count": 25
        }
      ],
      "source": [
        "#importing pandas and numpy packages\n",
        "import pandas as pd\n",
        "import numpy as np\n",
        "\n",
        "#Creating a Series from list\n",
        "data = [1, 2, 3, 4, 5]\n",
        "series_from_list = pd.Series(data)\n",
        "print(series_from_list)\n",
        "\n",
        "#From a dictionary:\n",
        "data = {'a': 1, 'b': 2, 'c': 3}\n",
        "series_from_dict = pd.Series(data)\n",
        "print(series_from_dict)\n",
        "\n",
        "#From a scalar value:\n",
        "scalar_series = pd.Series(5, index=[0, 1, 2, 3])\n",
        "print(scalar_series)\n",
        "\n",
        "#Using a Numpy Array\n",
        "data=np.random.randint(1,10,10)\n",
        "pd.Series(data)"
      ]
    },
    {
      "cell_type": "code",
      "source": [
        "#Creating a DataFrame\n",
        "#You can create a DataFrame from lists, dictionaries, or even CSV files:\n",
        "\n",
        "#From a list of lists:\n",
        "data = [[1, 2, 3], [4, 5, 6], [7, 8, 9]]\n",
        "df_from_list = pd.DataFrame(data, columns=['A', 'B', 'C'])\n",
        "print(df_from_list)\n"
      ],
      "metadata": {
        "colab": {
          "base_uri": "https://localhost:8080/"
        },
        "id": "NIz1YUEC5xvp",
        "outputId": "03d66adc-8589-4962-95ff-9f1e2d624a3d"
      },
      "execution_count": 8,
      "outputs": [
        {
          "output_type": "stream",
          "name": "stdout",
          "text": [
            "   A  B  C\n",
            "0  1  2  3\n",
            "1  4  5  6\n",
            "2  7  8  9\n"
          ]
        }
      ]
    },
    {
      "cell_type": "code",
      "source": [
        "#From a dictionary:\n",
        "data = {'A': [1, 4, 7], 'B': [2, 5, 8], 'C': [3, 6, 9]}\n",
        "df_from_dict = pd.DataFrame(data)\n",
        "print(df_from_dict)\n"
      ],
      "metadata": {
        "colab": {
          "base_uri": "https://localhost:8080/"
        },
        "id": "SFCvUpZ764Mj",
        "outputId": "145af142-3a94-4a3f-9ba5-844fb5025e52"
      },
      "execution_count": 9,
      "outputs": [
        {
          "output_type": "stream",
          "name": "stdout",
          "text": [
            "   A  B  C\n",
            "0  1  2  3\n",
            "1  4  5  6\n",
            "2  7  8  9\n"
          ]
        }
      ]
    },
    {
      "cell_type": "code",
      "source": [
        "#From a CSV file:\n",
        "df_from_csv = pd.read_csv('/content/Toy-Sales-dataset.csv')\n",
        "print(df_from_csv)"
      ],
      "metadata": {
        "colab": {
          "base_uri": "https://localhost:8080/"
        },
        "id": "pi_OKVi366aN",
        "outputId": "37bb4f9b-703c-4cba-ef6b-c3bd11e5a971"
      },
      "execution_count": 10,
      "outputs": [
        {
          "output_type": "stream",
          "name": "stdout",
          "text": [
            "    Month  Sales  PromExp  Price  AdExp\n",
            "0       1  73959    61.13   8.75  50.04\n",
            "1       2  71544    60.19   8.99  50.74\n",
            "2       3  78587    59.16   7.50  50.14\n",
            "3       4  80364    60.38   7.25  50.27\n",
            "4       5  78771    59.71   7.40  51.25\n",
            "5       6  71986    59.88   8.50  50.65\n",
            "6       7  74885    60.14   8.40  50.87\n",
            "7       8  73345    60.08   7.90  50.15\n",
            "8       9  76659    59.90   7.25  48.24\n",
            "9      10  71880    59.68   8.70  50.19\n",
            "10     11  73598    59.83   8.40  51.11\n",
            "11     12  74893    59.77   8.10  51.49\n",
            "12     13  69003    59.29   8.40  50.10\n",
            "13     14  78542    60.40   7.40  49.24\n",
            "14     15  72543    59.89   8.00  50.04\n",
            "15     16  74247    60.06   8.30  49.46\n",
            "16     17  76253    60.51   8.10  51.62\n",
            "17     18  72582    58.93   8.20  49.78\n",
            "18     19  69022    60.09   8.99  48.60\n",
            "19     20  76200    61.00   7.99  49.00\n",
            "20     21  69701    59.00   8.50  48.00\n",
            "21     22  77005    59.50   7.90  54.00\n",
            "22     23  70987    58.00   7.99  48.70\n",
            "23     24  75643    60.50   8.25  50.00\n"
          ]
        }
      ]
    },
    {
      "cell_type": "code",
      "source": [
        "#Selecting Data\n",
        "#Selecting a column (Series) from a DataFrame:\n",
        "col_a = df_from_dict['A']\n",
        "print(col_a)"
      ],
      "metadata": {
        "colab": {
          "base_uri": "https://localhost:8080/"
        },
        "id": "9U6TqD4H68zk",
        "outputId": "bc5fb5d2-3a59-45ac-de15-4d62d72afffb"
      },
      "execution_count": 11,
      "outputs": [
        {
          "output_type": "stream",
          "name": "stdout",
          "text": [
            "0    1\n",
            "1    4\n",
            "2    7\n",
            "Name: A, dtype: int64\n"
          ]
        }
      ]
    },
    {
      "cell_type": "code",
      "source": [
        "#Selecting multiple columns:\n",
        "cols_ab = df_from_dict[['A', 'B']]\n",
        "print(cols_ab)"
      ],
      "metadata": {
        "colab": {
          "base_uri": "https://localhost:8080/"
        },
        "id": "TuP5C1NK7uBq",
        "outputId": "d01b3532-66e3-44bd-e405-0cc37e0d7054"
      },
      "execution_count": 12,
      "outputs": [
        {
          "output_type": "stream",
          "name": "stdout",
          "text": [
            "   A  B\n",
            "0  1  2\n",
            "1  4  5\n",
            "2  7  8\n"
          ]
        }
      ]
    },
    {
      "cell_type": "code",
      "source": [
        "#Selecting rows by index:\n",
        "first_row = df_from_dict.iloc[0]\n",
        "print(first_row)"
      ],
      "metadata": {
        "colab": {
          "base_uri": "https://localhost:8080/"
        },
        "id": "jD-vz-bX7vqM",
        "outputId": "5e741663-069b-44e9-a782-64295b6930f0"
      },
      "execution_count": 13,
      "outputs": [
        {
          "output_type": "stream",
          "name": "stdout",
          "text": [
            "A    1\n",
            "B    2\n",
            "C    3\n",
            "Name: 0, dtype: int64\n"
          ]
        }
      ]
    },
    {
      "cell_type": "code",
      "source": [
        "#Selecting rows and columns:\n",
        "specific_data = df_from_dict.iloc[0, 1]  # First row, second column\n",
        "print(specific_data)"
      ],
      "metadata": {
        "colab": {
          "base_uri": "https://localhost:8080/"
        },
        "id": "fBTj--UM7ytd",
        "outputId": "86144bcd-d148-453f-f331-f65abb1c1333"
      },
      "execution_count": 15,
      "outputs": [
        {
          "output_type": "stream",
          "name": "stdout",
          "text": [
            "2\n"
          ]
        }
      ]
    },
    {
      "cell_type": "code",
      "source": [
        "#Filtering Rows\n",
        "#Filtering rows based on a condition:\n",
        "\n",
        "filtered_df = df_from_dict[df_from_dict['A'] > 4]\n",
        "print(filtered_df)"
      ],
      "metadata": {
        "colab": {
          "base_uri": "https://localhost:8080/"
        },
        "id": "pTWtQ2Yl71_E",
        "outputId": "61c2d6e9-b1bc-4bc4-9e2e-edd4e3de5f84"
      },
      "execution_count": 16,
      "outputs": [
        {
          "output_type": "stream",
          "name": "stdout",
          "text": [
            "   A  B  C\n",
            "2  7  8  9\n"
          ]
        }
      ]
    },
    {
      "cell_type": "code",
      "source": [
        "#Modifying Data\n",
        "#Adding a new column:\n",
        "df_from_dict['D'] = df_from_dict['A'] + df_from_dict['B']\n",
        "print(df_from_dict)"
      ],
      "metadata": {
        "colab": {
          "base_uri": "https://localhost:8080/"
        },
        "id": "lY_XZbtb8Cj7",
        "outputId": "b6a6126c-ad7d-4b2d-edb2-8d4f0ba1dce2"
      },
      "execution_count": 18,
      "outputs": [
        {
          "output_type": "stream",
          "name": "stdout",
          "text": [
            "   A  B  C   D\n",
            "0  1  2  3   3\n",
            "1  4  5  6   9\n",
            "2  7  8  9  15\n"
          ]
        }
      ]
    },
    {
      "cell_type": "code",
      "source": [
        "#Modifying existing column values:\n",
        "df_from_dict['A'] = df_from_dict['A'] * 2\n",
        "print(df_from_dict)"
      ],
      "metadata": {
        "colab": {
          "base_uri": "https://localhost:8080/"
        },
        "id": "F8Em8mPZ8G1u",
        "outputId": "9b757ec9-b87c-4fb2-f6d9-d3dbded6f010"
      },
      "execution_count": 21,
      "outputs": [
        {
          "output_type": "stream",
          "name": "stdout",
          "text": [
            "    A  B  C   D\n",
            "0   2  2  3   3\n",
            "1   8  5  6   9\n",
            "2  14  8  9  15\n"
          ]
        }
      ]
    },
    {
      "cell_type": "code",
      "source": [
        "#Dropping a column:\n",
        "df_dropped = df_from_dict.drop('D', axis=1)\n",
        "print(df_dropped)"
      ],
      "metadata": {
        "colab": {
          "base_uri": "https://localhost:8080/"
        },
        "id": "1jaPg9MT8Kb6",
        "outputId": "49bc663b-4fe6-4298-c8fe-ca467ff0cc2b"
      },
      "execution_count": 22,
      "outputs": [
        {
          "output_type": "stream",
          "name": "stdout",
          "text": [
            "    A  B  C\n",
            "0   2  2  3\n",
            "1   8  5  6\n",
            "2  14  8  9\n"
          ]
        }
      ]
    },
    {
      "cell_type": "code",
      "source": [
        "#Renaming columns:\n",
        "df_renamed = df_from_dict.rename(columns={'A': 'Alpha', 'B': 'Beta'})\n",
        "print(df_renamed)"
      ],
      "metadata": {
        "colab": {
          "base_uri": "https://localhost:8080/"
        },
        "id": "ImZeb44S8L94",
        "outputId": "bde70cd3-1ce0-404e-a4fb-1ca4af301643"
      },
      "execution_count": 23,
      "outputs": [
        {
          "output_type": "stream",
          "name": "stdout",
          "text": [
            "   Alpha  Beta  C   D\n",
            "0      2     2  3   3\n",
            "1      8     5  6   9\n",
            "2     14     8  9  15\n"
          ]
        }
      ]
    },
    {
      "cell_type": "markdown",
      "source": [
        "**2.Data Handling with Pandas:**\n",
        "\n",
        "---\n",
        "\n"
      ],
      "metadata": {
        "id": "tSGO6n-E8Uo7"
      }
    },
    {
      "cell_type": "code",
      "source": [
        "# Sample data: creating a DataFrame with some missing values and duplicates\n",
        "data = {\n",
        "    'Name': ['Alice', 'Bob', 'Charlie', 'David', 'Eve', 'Frank', 'Alice'],\n",
        "    'Age': [25, np.nan, 17, 40, 35, np.nan, 25],\n",
        "    'City': ['New York', 'Los Angeles', 'New York', 'Chicago', 'Los Angeles', 'New York', 'New York']\n",
        "}\n",
        "\n",
        "df = pd.DataFrame(data)\n",
        "\n",
        "# Display the original DataFrame\n",
        "print(\"Original DataFrame:\")\n",
        "print(df)\n",
        "\n",
        "# Handling missing data\n",
        "# Fill missing values with a specific value (e.g., mean of the column for numerical data)\n",
        "df['Age'] = df['Age'].fillna(df['Age'].mean())\n",
        "\n",
        "# Alternatively, drop rows with missing values\n",
        "# df = df.dropna()\n",
        "\n",
        "print(\"\\nDataFrame after handling missing values:\")\n",
        "print(df)\n",
        "\n",
        "# Removing duplicates\n",
        "df = df.drop_duplicates()\n",
        "\n",
        "print(\"\\nDataFrame after removing duplicates:\")\n",
        "print(df)\n",
        "\n",
        "# Data type conversions\n",
        "# Convert 'Age' to integer type (if needed)\n",
        "df['Age'] = df['Age'].astype(int)\n",
        "\n",
        "print(\"\\nDataFrame after type conversion:\")\n",
        "print(df)\n",
        "\n",
        "# Additional transformations\n",
        "# For example, adding a new column based on existing data\n",
        "df['Is_Adult'] = df['Age'] >= 18\n",
        "\n",
        "print(\"\\nDataFrame after adding new column 'Is_Adult':\")\n",
        "print(df)\n",
        "\n"
      ],
      "metadata": {
        "colab": {
          "base_uri": "https://localhost:8080/"
        },
        "id": "IdHbOCck8RYM",
        "outputId": "376ccf88-fe80-432e-9660-a5f4772683ef"
      },
      "execution_count": 28,
      "outputs": [
        {
          "output_type": "stream",
          "name": "stdout",
          "text": [
            "Original DataFrame:\n",
            "      Name   Age         City\n",
            "0    Alice  25.0     New York\n",
            "1      Bob   NaN  Los Angeles\n",
            "2  Charlie  17.0     New York\n",
            "3    David  40.0      Chicago\n",
            "4      Eve  35.0  Los Angeles\n",
            "5    Frank   NaN     New York\n",
            "6    Alice  25.0     New York\n",
            "\n",
            "DataFrame after handling missing values:\n",
            "      Name   Age         City\n",
            "0    Alice  25.0     New York\n",
            "1      Bob  28.4  Los Angeles\n",
            "2  Charlie  17.0     New York\n",
            "3    David  40.0      Chicago\n",
            "4      Eve  35.0  Los Angeles\n",
            "5    Frank  28.4     New York\n",
            "6    Alice  25.0     New York\n",
            "\n",
            "DataFrame after removing duplicates:\n",
            "      Name   Age         City\n",
            "0    Alice  25.0     New York\n",
            "1      Bob  28.4  Los Angeles\n",
            "2  Charlie  17.0     New York\n",
            "3    David  40.0      Chicago\n",
            "4      Eve  35.0  Los Angeles\n",
            "5    Frank  28.4     New York\n",
            "\n",
            "DataFrame after type conversion:\n",
            "      Name  Age         City\n",
            "0    Alice   25     New York\n",
            "1      Bob   28  Los Angeles\n",
            "2  Charlie   17     New York\n",
            "3    David   40      Chicago\n",
            "4      Eve   35  Los Angeles\n",
            "5    Frank   28     New York\n",
            "\n",
            "DataFrame after adding new column 'Is_Adult':\n",
            "      Name  Age         City  Is_Adult\n",
            "0    Alice   25     New York      True\n",
            "1      Bob   28  Los Angeles      True\n",
            "2  Charlie   17     New York     False\n",
            "3    David   40      Chicago      True\n",
            "4      Eve   35  Los Angeles      True\n",
            "5    Frank   28     New York      True\n"
          ]
        }
      ]
    },
    {
      "cell_type": "code",
      "source": [
        "# Reading data from a CSV file\n",
        "df1= pd.read_csv('/content/Titanic-Dataset.csv')\n",
        "print(df1)"
      ],
      "metadata": {
        "colab": {
          "base_uri": "https://localhost:8080/"
        },
        "id": "CMaAhAds9ROY",
        "outputId": "30d3c791-6715-43e8-be2f-b7ca40a18edf"
      },
      "execution_count": 34,
      "outputs": [
        {
          "output_type": "stream",
          "name": "stdout",
          "text": [
            "     PassengerId  Survived  Pclass  \\\n",
            "0              1         0       3   \n",
            "1              2         1       1   \n",
            "2              3         1       3   \n",
            "3              4         1       1   \n",
            "4              5         0       3   \n",
            "..           ...       ...     ...   \n",
            "886          887         0       2   \n",
            "887          888         1       1   \n",
            "888          889         0       3   \n",
            "889          890         1       1   \n",
            "890          891         0       3   \n",
            "\n",
            "                                                  Name     Sex   Age  SibSp  \\\n",
            "0                              Braund, Mr. Owen Harris    male  22.0      1   \n",
            "1    Cumings, Mrs. John Bradley (Florence Briggs Th...  female  38.0      1   \n",
            "2                               Heikkinen, Miss. Laina  female  26.0      0   \n",
            "3         Futrelle, Mrs. Jacques Heath (Lily May Peel)  female  35.0      1   \n",
            "4                             Allen, Mr. William Henry    male  35.0      0   \n",
            "..                                                 ...     ...   ...    ...   \n",
            "886                              Montvila, Rev. Juozas    male  27.0      0   \n",
            "887                       Graham, Miss. Margaret Edith  female  19.0      0   \n",
            "888           Johnston, Miss. Catherine Helen \"Carrie\"  female   NaN      1   \n",
            "889                              Behr, Mr. Karl Howell    male  26.0      0   \n",
            "890                                Dooley, Mr. Patrick    male  32.0      0   \n",
            "\n",
            "     Parch            Ticket     Fare Cabin Embarked  \n",
            "0        0         A/5 21171   7.2500   NaN        S  \n",
            "1        0          PC 17599  71.2833   C85        C  \n",
            "2        0  STON/O2. 3101282   7.9250   NaN        S  \n",
            "3        0            113803  53.1000  C123        S  \n",
            "4        0            373450   8.0500   NaN        S  \n",
            "..     ...               ...      ...   ...      ...  \n",
            "886      0            211536  13.0000   NaN        S  \n",
            "887      0            112053  30.0000   B42        S  \n",
            "888      2        W./C. 6607  23.4500   NaN        S  \n",
            "889      0            111369  30.0000  C148        C  \n",
            "890      0            370376   7.7500   NaN        Q  \n",
            "\n",
            "[891 rows x 12 columns]\n"
          ]
        }
      ]
    },
    {
      "cell_type": "code",
      "source": [
        "print(df1.head())"
      ],
      "metadata": {
        "colab": {
          "base_uri": "https://localhost:8080/"
        },
        "id": "ilN5huLz-EPi",
        "outputId": "a4a263a5-76f1-4596-8b0d-92d028942b3c"
      },
      "execution_count": 35,
      "outputs": [
        {
          "output_type": "stream",
          "name": "stdout",
          "text": [
            "   PassengerId  Survived  Pclass  \\\n",
            "0            1         0       3   \n",
            "1            2         1       1   \n",
            "2            3         1       3   \n",
            "3            4         1       1   \n",
            "4            5         0       3   \n",
            "\n",
            "                                                Name     Sex   Age  SibSp  \\\n",
            "0                            Braund, Mr. Owen Harris    male  22.0      1   \n",
            "1  Cumings, Mrs. John Bradley (Florence Briggs Th...  female  38.0      1   \n",
            "2                             Heikkinen, Miss. Laina  female  26.0      0   \n",
            "3       Futrelle, Mrs. Jacques Heath (Lily May Peel)  female  35.0      1   \n",
            "4                           Allen, Mr. William Henry    male  35.0      0   \n",
            "\n",
            "   Parch            Ticket     Fare Cabin Embarked  \n",
            "0      0         A/5 21171   7.2500   NaN        S  \n",
            "1      0          PC 17599  71.2833   C85        C  \n",
            "2      0  STON/O2. 3101282   7.9250   NaN        S  \n",
            "3      0            113803  53.1000  C123        S  \n",
            "4      0            373450   8.0500   NaN        S  \n"
          ]
        }
      ]
    },
    {
      "cell_type": "code",
      "source": [
        "df1.isnull().sum()"
      ],
      "metadata": {
        "colab": {
          "base_uri": "https://localhost:8080/",
          "height": 460
        },
        "id": "UYghxHMt-Wi5",
        "outputId": "58cb301e-98a7-4f2a-eff7-feebeac1b1f8"
      },
      "execution_count": 37,
      "outputs": [
        {
          "output_type": "execute_result",
          "data": {
            "text/plain": [
              "PassengerId      0\n",
              "Survived         0\n",
              "Pclass           0\n",
              "Name             0\n",
              "Sex              0\n",
              "Age            177\n",
              "SibSp            0\n",
              "Parch            0\n",
              "Ticket           0\n",
              "Fare             0\n",
              "Cabin          687\n",
              "Embarked         2\n",
              "dtype: int64"
            ],
            "text/html": [
              "<div>\n",
              "<style scoped>\n",
              "    .dataframe tbody tr th:only-of-type {\n",
              "        vertical-align: middle;\n",
              "    }\n",
              "\n",
              "    .dataframe tbody tr th {\n",
              "        vertical-align: top;\n",
              "    }\n",
              "\n",
              "    .dataframe thead th {\n",
              "        text-align: right;\n",
              "    }\n",
              "</style>\n",
              "<table border=\"1\" class=\"dataframe\">\n",
              "  <thead>\n",
              "    <tr style=\"text-align: right;\">\n",
              "      <th></th>\n",
              "      <th>0</th>\n",
              "    </tr>\n",
              "  </thead>\n",
              "  <tbody>\n",
              "    <tr>\n",
              "      <th>PassengerId</th>\n",
              "      <td>0</td>\n",
              "    </tr>\n",
              "    <tr>\n",
              "      <th>Survived</th>\n",
              "      <td>0</td>\n",
              "    </tr>\n",
              "    <tr>\n",
              "      <th>Pclass</th>\n",
              "      <td>0</td>\n",
              "    </tr>\n",
              "    <tr>\n",
              "      <th>Name</th>\n",
              "      <td>0</td>\n",
              "    </tr>\n",
              "    <tr>\n",
              "      <th>Sex</th>\n",
              "      <td>0</td>\n",
              "    </tr>\n",
              "    <tr>\n",
              "      <th>Age</th>\n",
              "      <td>177</td>\n",
              "    </tr>\n",
              "    <tr>\n",
              "      <th>SibSp</th>\n",
              "      <td>0</td>\n",
              "    </tr>\n",
              "    <tr>\n",
              "      <th>Parch</th>\n",
              "      <td>0</td>\n",
              "    </tr>\n",
              "    <tr>\n",
              "      <th>Ticket</th>\n",
              "      <td>0</td>\n",
              "    </tr>\n",
              "    <tr>\n",
              "      <th>Fare</th>\n",
              "      <td>0</td>\n",
              "    </tr>\n",
              "    <tr>\n",
              "      <th>Cabin</th>\n",
              "      <td>687</td>\n",
              "    </tr>\n",
              "    <tr>\n",
              "      <th>Embarked</th>\n",
              "      <td>2</td>\n",
              "    </tr>\n",
              "  </tbody>\n",
              "</table>\n",
              "</div><br><label><b>dtype:</b> int64</label>"
            ]
          },
          "metadata": {},
          "execution_count": 37
        }
      ]
    },
    {
      "cell_type": "code",
      "source": [
        "#handling missing values\n",
        "df1['Age'] = df1['Age'].fillna(df1['Age'].mean())"
      ],
      "metadata": {
        "id": "Fhjvk7ql-gTD"
      },
      "execution_count": 38,
      "outputs": []
    },
    {
      "cell_type": "code",
      "source": [
        "df1.isnull().sum()"
      ],
      "metadata": {
        "colab": {
          "base_uri": "https://localhost:8080/",
          "height": 460
        },
        "id": "xMmP0FVy-2-K",
        "outputId": "1f9bbfef-00cd-454d-b620-ff9e793329a3"
      },
      "execution_count": 39,
      "outputs": [
        {
          "output_type": "execute_result",
          "data": {
            "text/plain": [
              "PassengerId      0\n",
              "Survived         0\n",
              "Pclass           0\n",
              "Name             0\n",
              "Sex              0\n",
              "Age              0\n",
              "SibSp            0\n",
              "Parch            0\n",
              "Ticket           0\n",
              "Fare             0\n",
              "Cabin          687\n",
              "Embarked         2\n",
              "dtype: int64"
            ],
            "text/html": [
              "<div>\n",
              "<style scoped>\n",
              "    .dataframe tbody tr th:only-of-type {\n",
              "        vertical-align: middle;\n",
              "    }\n",
              "\n",
              "    .dataframe tbody tr th {\n",
              "        vertical-align: top;\n",
              "    }\n",
              "\n",
              "    .dataframe thead th {\n",
              "        text-align: right;\n",
              "    }\n",
              "</style>\n",
              "<table border=\"1\" class=\"dataframe\">\n",
              "  <thead>\n",
              "    <tr style=\"text-align: right;\">\n",
              "      <th></th>\n",
              "      <th>0</th>\n",
              "    </tr>\n",
              "  </thead>\n",
              "  <tbody>\n",
              "    <tr>\n",
              "      <th>PassengerId</th>\n",
              "      <td>0</td>\n",
              "    </tr>\n",
              "    <tr>\n",
              "      <th>Survived</th>\n",
              "      <td>0</td>\n",
              "    </tr>\n",
              "    <tr>\n",
              "      <th>Pclass</th>\n",
              "      <td>0</td>\n",
              "    </tr>\n",
              "    <tr>\n",
              "      <th>Name</th>\n",
              "      <td>0</td>\n",
              "    </tr>\n",
              "    <tr>\n",
              "      <th>Sex</th>\n",
              "      <td>0</td>\n",
              "    </tr>\n",
              "    <tr>\n",
              "      <th>Age</th>\n",
              "      <td>0</td>\n",
              "    </tr>\n",
              "    <tr>\n",
              "      <th>SibSp</th>\n",
              "      <td>0</td>\n",
              "    </tr>\n",
              "    <tr>\n",
              "      <th>Parch</th>\n",
              "      <td>0</td>\n",
              "    </tr>\n",
              "    <tr>\n",
              "      <th>Ticket</th>\n",
              "      <td>0</td>\n",
              "    </tr>\n",
              "    <tr>\n",
              "      <th>Fare</th>\n",
              "      <td>0</td>\n",
              "    </tr>\n",
              "    <tr>\n",
              "      <th>Cabin</th>\n",
              "      <td>687</td>\n",
              "    </tr>\n",
              "    <tr>\n",
              "      <th>Embarked</th>\n",
              "      <td>2</td>\n",
              "    </tr>\n",
              "  </tbody>\n",
              "</table>\n",
              "</div><br><label><b>dtype:</b> int64</label>"
            ]
          },
          "metadata": {},
          "execution_count": 39
        }
      ]
    },
    {
      "cell_type": "markdown",
      "source": [
        "**3.Data Analysis with Pandas**\n",
        "\n",
        "---\n",
        "\n"
      ],
      "metadata": {
        "id": "HL5S3Efd_CbU"
      }
    },
    {
      "cell_type": "code",
      "source": [
        "import pandas as pd\n",
        "\n",
        "# Load a DataFrame\n",
        "df = pd.read_csv('/content/Titanic-Dataset.csv')\n",
        "\n",
        "# Summary statistics for numerical columns\n",
        "summary = df.describe()\n",
        "print(summary)\n",
        "\n",
        "# Summary statistics for categorical columns\n",
        "categorical_summary = df.describe(include=['object'])\n",
        "print(categorical_summary)\n",
        "\n",
        "# Get the mean of a specific column\n",
        "mean_value = df['Fare'].mean()\n",
        "print(mean_value)\n",
        "\n",
        "# Get the median of a specific column\n",
        "median_value = df['Fare'].median()\n",
        "print(median_value)\n",
        "\n",
        "# Get the standard deviation of a specific column\n",
        "std_dev = df['Fare'].std()\n",
        "print(std_dev)\n"
      ],
      "metadata": {
        "colab": {
          "base_uri": "https://localhost:8080/"
        },
        "id": "6G9F3jSOAXgS",
        "outputId": "46b5a515-808b-4956-c5da-e018629a2c0d"
      },
      "execution_count": 52,
      "outputs": [
        {
          "output_type": "stream",
          "name": "stdout",
          "text": [
            "       PassengerId    Survived      Pclass         Age       SibSp  \\\n",
            "count   891.000000  891.000000  891.000000  714.000000  891.000000   \n",
            "mean    446.000000    0.383838    2.308642   29.699118    0.523008   \n",
            "std     257.353842    0.486592    0.836071   14.526497    1.102743   \n",
            "min       1.000000    0.000000    1.000000    0.420000    0.000000   \n",
            "25%     223.500000    0.000000    2.000000   20.125000    0.000000   \n",
            "50%     446.000000    0.000000    3.000000   28.000000    0.000000   \n",
            "75%     668.500000    1.000000    3.000000   38.000000    1.000000   \n",
            "max     891.000000    1.000000    3.000000   80.000000    8.000000   \n",
            "\n",
            "            Parch        Fare  \n",
            "count  891.000000  891.000000  \n",
            "mean     0.381594   32.204208  \n",
            "std      0.806057   49.693429  \n",
            "min      0.000000    0.000000  \n",
            "25%      0.000000    7.910400  \n",
            "50%      0.000000   14.454200  \n",
            "75%      0.000000   31.000000  \n",
            "max      6.000000  512.329200  \n",
            "                           Name   Sex  Ticket    Cabin Embarked\n",
            "count                       891   891     891      204      889\n",
            "unique                      891     2     681      147        3\n",
            "top     Braund, Mr. Owen Harris  male  347082  B96 B98        S\n",
            "freq                          1   577       7        4      644\n",
            "32.204207968574636\n",
            "14.4542\n",
            "49.6934285971809\n"
          ]
        }
      ]
    },
    {
      "cell_type": "code",
      "source": [
        "df = pd.read_csv('/content/Toy-Sales-dataset.csv')\n",
        "# Group by a specific column and calculate aggregate statistics\n",
        "grouped = df.groupby('Sales')\n",
        "\n",
        "# Apply aggregation functions\n",
        "mean_values = grouped.mean()\n",
        "print(mean_values)\n",
        "\n",
        "sum_values = grouped.sum()\n",
        "print(sum_values)\n",
        "\n",
        "count_values = grouped.count()\n",
        "print(count_values)\n"
      ],
      "metadata": {
        "colab": {
          "base_uri": "https://localhost:8080/"
        },
        "id": "5U7XL3YT__2e",
        "outputId": "46af990f-11c1-4cf1-e4ae-f6c9f5cefa7d"
      },
      "execution_count": 60,
      "outputs": [
        {
          "output_type": "stream",
          "name": "stdout",
          "text": [
            "       Month  PromExp  Price  AdExp\n",
            "Sales                              \n",
            "69003   13.0    59.29   8.40  50.10\n",
            "69022   19.0    60.09   8.99  48.60\n",
            "69701   21.0    59.00   8.50  48.00\n",
            "70987   23.0    58.00   7.99  48.70\n",
            "71544    2.0    60.19   8.99  50.74\n",
            "71880   10.0    59.68   8.70  50.19\n",
            "71986    6.0    59.88   8.50  50.65\n",
            "72543   15.0    59.89   8.00  50.04\n",
            "72582   18.0    58.93   8.20  49.78\n",
            "73345    8.0    60.08   7.90  50.15\n",
            "73598   11.0    59.83   8.40  51.11\n",
            "73959    1.0    61.13   8.75  50.04\n",
            "74247   16.0    60.06   8.30  49.46\n",
            "74885    7.0    60.14   8.40  50.87\n",
            "74893   12.0    59.77   8.10  51.49\n",
            "75643   24.0    60.50   8.25  50.00\n",
            "76200   20.0    61.00   7.99  49.00\n",
            "76253   17.0    60.51   8.10  51.62\n",
            "76659    9.0    59.90   7.25  48.24\n",
            "77005   22.0    59.50   7.90  54.00\n",
            "78542   14.0    60.40   7.40  49.24\n",
            "78587    3.0    59.16   7.50  50.14\n",
            "78771    5.0    59.71   7.40  51.25\n",
            "80364    4.0    60.38   7.25  50.27\n",
            "       Month  PromExp  Price  AdExp\n",
            "Sales                              \n",
            "69003     13    59.29   8.40  50.10\n",
            "69022     19    60.09   8.99  48.60\n",
            "69701     21    59.00   8.50  48.00\n",
            "70987     23    58.00   7.99  48.70\n",
            "71544      2    60.19   8.99  50.74\n",
            "71880     10    59.68   8.70  50.19\n",
            "71986      6    59.88   8.50  50.65\n",
            "72543     15    59.89   8.00  50.04\n",
            "72582     18    58.93   8.20  49.78\n",
            "73345      8    60.08   7.90  50.15\n",
            "73598     11    59.83   8.40  51.11\n",
            "73959      1    61.13   8.75  50.04\n",
            "74247     16    60.06   8.30  49.46\n",
            "74885      7    60.14   8.40  50.87\n",
            "74893     12    59.77   8.10  51.49\n",
            "75643     24    60.50   8.25  50.00\n",
            "76200     20    61.00   7.99  49.00\n",
            "76253     17    60.51   8.10  51.62\n",
            "76659      9    59.90   7.25  48.24\n",
            "77005     22    59.50   7.90  54.00\n",
            "78542     14    60.40   7.40  49.24\n",
            "78587      3    59.16   7.50  50.14\n",
            "78771      5    59.71   7.40  51.25\n",
            "80364      4    60.38   7.25  50.27\n",
            "       Month  PromExp  Price  AdExp\n",
            "Sales                              \n",
            "69003      1        1      1      1\n",
            "69022      1        1      1      1\n",
            "69701      1        1      1      1\n",
            "70987      1        1      1      1\n",
            "71544      1        1      1      1\n",
            "71880      1        1      1      1\n",
            "71986      1        1      1      1\n",
            "72543      1        1      1      1\n",
            "72582      1        1      1      1\n",
            "73345      1        1      1      1\n",
            "73598      1        1      1      1\n",
            "73959      1        1      1      1\n",
            "74247      1        1      1      1\n",
            "74885      1        1      1      1\n",
            "74893      1        1      1      1\n",
            "75643      1        1      1      1\n",
            "76200      1        1      1      1\n",
            "76253      1        1      1      1\n",
            "76659      1        1      1      1\n",
            "77005      1        1      1      1\n",
            "78542      1        1      1      1\n",
            "78587      1        1      1      1\n",
            "78771      1        1      1      1\n",
            "80364      1        1      1      1\n"
          ]
        }
      ]
    },
    {
      "cell_type": "code",
      "source": [
        "#Merging DataFrames\n",
        "#Merging combines two DataFrames based on a key column:\n",
        "\n",
        "# Create DataFrames\n",
        "df1 = pd.DataFrame({'key': ['A', 'B', 'C'], 'value1': [1, 2, 3]})\n",
        "df2 = pd.DataFrame({'key': ['A', 'B', 'D'], 'value2': [4, 5, 6]})\n",
        "\n",
        "# Merge DataFrames on a key column\n",
        "merged_df = pd.merge(df1, df2, on='key', how='inner')  # other options: 'outer', 'left', 'right'\n",
        "print(merged_df)"
      ],
      "metadata": {
        "colab": {
          "base_uri": "https://localhost:8080/"
        },
        "id": "tEt5jIOt-5oq",
        "outputId": "dacf13cd-ebe5-42e6-b531-dd4a24fa127f"
      },
      "execution_count": 45,
      "outputs": [
        {
          "output_type": "stream",
          "name": "stdout",
          "text": [
            "  key  value1  value2\n",
            "0   A       1       4\n",
            "1   B       2       5\n"
          ]
        }
      ]
    },
    {
      "cell_type": "code",
      "source": [
        "#Joining DataFrames\n",
        "#Joining is similar to merging but is often used with the index:\n",
        "\n",
        "# Create DataFrames with index\n",
        "df1 = pd.DataFrame({'value1': [1, 2, 3]}, index=['A', 'B', 'C'])\n",
        "df2 = pd.DataFrame({'value2': [4, 5, 6]}, index=['A', 'B', 'D'])\n",
        "\n",
        "# Join DataFrames on index\n",
        "joined_df = df1.join(df2, how='inner')  # other options: 'outer', 'left', 'right'\n",
        "print(joined_df)"
      ],
      "metadata": {
        "colab": {
          "base_uri": "https://localhost:8080/"
        },
        "id": "90p1_oI9_nA1",
        "outputId": "11603162-77d6-48c6-8b40-8dcfe06dc198"
      },
      "execution_count": 47,
      "outputs": [
        {
          "output_type": "stream",
          "name": "stdout",
          "text": [
            "   value1  value2\n",
            "A       1       4\n",
            "B       2       5\n"
          ]
        }
      ]
    },
    {
      "cell_type": "code",
      "source": [
        "#Concatenating DataFrames\n",
        "#Concatenation stacks DataFrames either vertically or horizontally:\n",
        "\n",
        "# Create DataFrames\n",
        "df1 = pd.DataFrame({'A': [1, 2], 'B': [3, 4]})\n",
        "df2 = pd.DataFrame({'A': [5, 6], 'B': [7, 8]})\n",
        "\n",
        "# Concatenate DataFrames vertically\n",
        "concat_df = pd.concat([df1, df2], axis=0)  # axis=0 for vertical, axis=1 for horizontal\n",
        "\n",
        "# Concatenate DataFrames horizontally\n",
        "concat_df_horizontal = pd.concat([df1, df2], axis=1)\n",
        "\n",
        "print(\"Vertical Concatenation:\")\n",
        "print(concat_df)\n",
        "\n",
        "print(\"Horizontal Concatenation:\")\n",
        "print(concat_df_horizontal)"
      ],
      "metadata": {
        "colab": {
          "base_uri": "https://localhost:8080/"
        },
        "id": "AARd9yYa_rYR",
        "outputId": "5973dc4c-f89f-49ef-b616-8cca25b80bee"
      },
      "execution_count": 48,
      "outputs": [
        {
          "output_type": "stream",
          "name": "stdout",
          "text": [
            "Vertical Concatenation:\n",
            "   A  B\n",
            "0  1  3\n",
            "1  2  4\n",
            "0  5  7\n",
            "1  6  8\n",
            "Horizontal Concatenation:\n",
            "   A  B  A  B\n",
            "0  1  3  5  7\n",
            "1  2  4  6  8\n"
          ]
        }
      ]
    },
    {
      "cell_type": "markdown",
      "source": [
        "**4.Application in Data Science:**\n",
        "\n",
        "---\n",
        "\n"
      ],
      "metadata": {
        "id": "uUfUpzPxCF1i"
      }
    },
    {
      "cell_type": "markdown",
      "source": [
        "### Key Advantages of Using Pandas in Data Science\n",
        "\n",
        "1. **Efficient Data Structures**:\n",
        "   - **DataFrame** and **Series** for handling structured data.\n",
        "   - Optimized for performance with large datasets.\n",
        "\n",
        "2. **Powerful Data Manipulation**:\n",
        "   - Advanced indexing, selection, and filtering.\n",
        "   - Aggregation and grouping functionalities.\n",
        "\n",
        "3. **Data Cleaning and Preparation**:\n",
        "   - Methods for handling missing values and data transformation.\n",
        "\n",
        "4. **Time Series Analysis**:\n",
        "   - Robust support for date and time data, including resampling and frequency conversion.\n",
        "\n",
        "5. **Data Merging and Joining**:\n",
        "   - Easy combination of data from multiple sources.\n",
        "\n",
        "6. **Integration with Other Libraries**:\n",
        "   - Seamless integration with NumPy, scikit-learn, Matplotlib, and Seaborn.\n",
        "\n",
        "### Real-World Examples\n",
        "\n",
        "1. **Data Cleaning**:\n",
        "   - Removing duplicates, handling missing values, and type conversion.\n",
        "\n",
        "2. **Exploratory Data Analysis (EDA)**:\n",
        "   - Generating descriptive statistics and visualizing data patterns.\n",
        "\n",
        "3. **Feature Engineering**:\n",
        "   - Creating new features and normalizing data for modeling.\n",
        "\n",
        "4. **Time Series Analysis**:\n",
        "   - Analyzing trends, seasonal patterns, and forecasting with datetime data.\n",
        "\n",
        "Pandas enhances efficiency and effectiveness in handling, analyzing, and visualizing data, making it an essential tool for data science professionals."
      ],
      "metadata": {
        "id": "Wpwq_A8PCMpM"
      }
    }
  ]
}